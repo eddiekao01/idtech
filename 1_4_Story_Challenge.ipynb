{
  "nbformat": 4,
  "nbformat_minor": 0,
  "metadata": {
    "colab": {
      "name": "1.4_Story_Challenge.ipynb",
      "provenance": [],
      "include_colab_link": true
    },
    "kernelspec": {
      "name": "python3",
      "display_name": "Python 3"
    },
    "language_info": {
      "name": "python"
    }
  },
  "cells": [
    {
      "cell_type": "markdown",
      "metadata": {
        "id": "view-in-github",
        "colab_type": "text"
      },
      "source": [
        "<a href=\"https://colab.research.google.com/github/eddiekao01/idtech/blob/main/1_4_Story_Challenge.ipynb\" target=\"_parent\"><img src=\"https://colab.research.google.com/assets/colab-badge.svg\" alt=\"Open In Colab\"/></a>"
      ]
    },
    {
      "cell_type": "markdown",
      "metadata": {
        "id": "pmgS0fuOYTwM"
      },
      "source": [
        "#Story Challenge\n",
        "\n",
        "In this notebook you will create a story that prints out to the user. You can use multiple print statements or one huge one, it's up to you!"
      ]
    },
    {
      "cell_type": "code",
      "metadata": {
        "id": "uwHRylCsYDFQ"
      },
      "source": [
        "# Add your story code here:\n",
        "name = input(\"What's ur name?\\n\")\n",
        "another_name = input(\"Who do u hate?\\n\")\n",
        "setting = input(\"Where u want them at?\\n\")\n",
        "print(\"Once upon a time, theres a very handsome man named \" + name + \" he's glorified by all the citizens because he beated \" + another_name + \" up so badly that all the girls laughed at him in \" + setting)\n"
      ],
      "execution_count": null,
      "outputs": []
    },
    {
      "cell_type": "markdown",
      "metadata": {
        "id": "TpoPxHD2Yr4H"
      },
      "source": [
        "###Bonus Challenge\n",
        "\n",
        "If you want to step up your story, use user input and variables to create a mad libs style project.\n",
        "\n",
        "Get some verbs, nouns, adjectives, and names from the user and insert them into your story.\n"
      ]
    },
    {
      "cell_type": "code",
      "metadata": {
        "id": "ySlrVAXZY_Oh"
      },
      "source": [
        "# Get user input for the placeholder words. Make sure to save them to variables!\n",
        "\n",
        "# Print out the updated story using the input from the user.\n",
        "\n"
      ],
      "execution_count": null,
      "outputs": []
    },
    {
      "cell_type": "markdown",
      "metadata": {
        "id": "n3cMjYJqiM_h"
      },
      "source": [
        "###Extra Bonus Challenge\n",
        "\n",
        "Create a choose your own adventure story that gets user input to choose a path through the story. Use conditionals to print different stories depending on what the user wants to do."
      ]
    }
  ]
}