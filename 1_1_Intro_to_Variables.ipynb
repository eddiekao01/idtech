{
  "nbformat": 4,
  "nbformat_minor": 0,
  "metadata": {
    "colab": {
      "name": "1.1_Intro_to_Variables",
      "provenance": [],
      "include_colab_link": true
    },
    "kernelspec": {
      "name": "python3",
      "display_name": "Python 3"
    },
    "language_info": {
      "name": "python"
    }
  },
  "cells": [
    {
      "cell_type": "markdown",
      "metadata": {
        "id": "view-in-github",
        "colab_type": "text"
      },
      "source": [
        "<a href=\"https://colab.research.google.com/github/eddiekao01/idtech/blob/main/1_1_Intro_to_Variables.ipynb\" target=\"_parent\"><img src=\"https://colab.research.google.com/assets/colab-badge.svg\" alt=\"Open In Colab\"/></a>"
      ]
    },
    {
      "cell_type": "markdown",
      "metadata": {
        "id": "57v3TxY5YkTh"
      },
      "source": [
        "#Intro to Variables#\n",
        " <img src = \"https://i.imgur.com/tbQIc9Z.png\" width = 200px align=\"right\" margin=30px>\n",
        "\n",
        "\n",
        "**Variables** are like boxes; they hold important information, or data. A variable can hold different data types, such as numbers or words.\n",
        "\n",
        "Let's say you wanted to keep track of the amount of donuts that a pig has eaten. You could create a variable called **number_of_dounts**.\n",
        "\n",
        "\n",
        "\n",
        "After naming a variable, you can give it a value, which is like filling the chest. This is called **initializing**.\n",
        "\n",
        "If your pig has eaten three donuts then you would initialize your number_of_donuts variable to three, like in the cell below."
      ]
    },
    {
      "cell_type": "code",
      "metadata": {
        "id": "LrasHDjTTTfR"
      },
      "source": [
        "number_of_donuts = 3"
      ],
      "execution_count": 1,
      "outputs": []
    },
    {
      "cell_type": "markdown",
      "metadata": {
        "id": "JxKoNFg6ZP7t"
      },
      "source": [
        "In order to see what is in the variable called number_of_donuts, you will need to print it.\n",
        "\n",
        "In Python, in order to print a variable, you use the print function. Run the cell below to print out the contents of number_of_donuts."
      ]
    },
    {
      "cell_type": "code",
      "metadata": {
        "id": "iq6mnhdvZidZ",
        "outputId": "0de2cbc8-59e6-448f-c57e-e71a034878e7",
        "colab": {
          "base_uri": "https://localhost:8080/"
        }
      },
      "source": [
        "print(number_of_donuts)"
      ],
      "execution_count": 2,
      "outputs": [
        {
          "output_type": "stream",
          "name": "stdout",
          "text": [
            "3\n"
          ]
        }
      ]
    },
    {
      "cell_type": "markdown",
      "metadata": {
        "id": "EtklKNP2ZhwG"
      },
      "source": [
        "Try changing the number of donuts in the cell below"
      ]
    },
    {
      "cell_type": "code",
      "metadata": {
        "id": "LAepVdUpZ1OX",
        "outputId": "f4491697-b4c0-4577-ff00-bde19128b19a",
        "colab": {
          "base_uri": "https://localhost:8080/"
        }
      },
      "source": [
        "# Change the value of the number of donuts here\n",
        "number_of_donuts = 69\n",
        "# Add code to print the updated number of donuts\n",
        "print(number_of_donuts)"
      ],
      "execution_count": 3,
      "outputs": [
        {
          "output_type": "stream",
          "name": "stdout",
          "text": [
            "69\n"
          ]
        }
      ]
    },
    {
      "cell_type": "markdown",
      "metadata": {
        "id": "IU873SdEaGsl"
      },
      "source": [
        "##Other Variable Types##\n",
        "\n",
        "A whole number in python is called an **int** short for integer. There are a lot of other variable types, but for now we are going to focus on two other common ones: Strings and booleans.\n",
        "\n",
        "Variables can hold data besides numbers, including words. Programmers refer to variables holding words as **strings**.\n",
        "\n",
        "Create a string variable to hold the pigs name below. Python will make it's best guess about what kind of variable you are making based on what the value is."
      ]
    },
    {
      "cell_type": "code",
      "metadata": {
        "id": "DPn1oKdmaonr",
        "outputId": "bcc7304e-9fa3-473b-9b1d-1289610a2011",
        "colab": {
          "base_uri": "https://localhost:8080/"
        }
      },
      "source": [
        "# Create a string variable to keep track of the pigs name\n",
        "pig_name = \"Kepler\"\n",
        "# Print the pig's name\n",
        "print(pig_name)"
      ],
      "execution_count": 4,
      "outputs": [
        {
          "output_type": "stream",
          "name": "stdout",
          "text": [
            "Kepler\n"
          ]
        }
      ]
    },
    {
      "cell_type": "markdown",
      "metadata": {
        "id": "SqvPbHXIa8-J"
      },
      "source": [
        "Try changing the pigs name to something you choose and then print it out below."
      ]
    },
    {
      "cell_type": "code",
      "metadata": {
        "id": "DPeDg6fxbBRy",
        "outputId": "fa3726bb-eb41-4a1b-af79-b01ad50e02d2",
        "colab": {
          "base_uri": "https://localhost:8080/"
        }
      },
      "source": [
        "# Update the pig's name\n",
        "pig_name = \"Ray\"\n",
        "# Print out the pig's updated name\n",
        "print(pig_name)"
      ],
      "execution_count": 5,
      "outputs": [
        {
          "output_type": "stream",
          "name": "stdout",
          "text": [
            "Ray\n"
          ]
        }
      ]
    },
    {
      "cell_type": "markdown",
      "metadata": {
        "id": "K2F9lYG3bIqN"
      },
      "source": [
        "You can also use variables to show if something is true or false; this type of data is called a boolean.\n",
        "\n",
        "In the cell below create a variable to keep track of if donuts exist"
      ]
    },
    {
      "cell_type": "code",
      "metadata": {
        "id": "IfQZXzLabaph",
        "outputId": "52a31409-bf89-4dbf-d404-8a7f8c5fa16a",
        "colab": {
          "base_uri": "https://localhost:8080/"
        }
      },
      "source": [
        "# Create the variable for donuts exist\n",
        "donuts_exist = True\n",
        "# Print the value of donuts exist\n",
        "print(donuts_exist)"
      ],
      "execution_count": 6,
      "outputs": [
        {
          "output_type": "stream",
          "name": "stdout",
          "text": [
            "True\n"
          ]
        }
      ]
    },
    {
      "cell_type": "markdown",
      "metadata": {
        "id": "b1eBCRctbn0k"
      },
      "source": [
        "Let's pretend the pig ate all the donuts. Can you update the donuts_exist variable to False?"
      ]
    },
    {
      "cell_type": "code",
      "metadata": {
        "id": "QiKrs42RbujX",
        "outputId": "ab1f9cda-371d-4844-eb98-e09e8608cb01",
        "colab": {
          "base_uri": "https://localhost:8080/"
        }
      },
      "source": [
        "# Update and print out the donuts_exist variable.\n",
        "donuts_exist = False\n",
        "# See what donuts_exist equals now\n",
        "print(donuts_exist)"
      ],
      "execution_count": 7,
      "outputs": [
        {
          "output_type": "stream",
          "name": "stdout",
          "text": [
            "False\n"
          ]
        }
      ]
    },
    {
      "cell_type": "markdown",
      "metadata": {
        "id": "PG0rRJYTbzhS"
      },
      "source": [
        "###Now it's your turn!###\n",
        "\n",
        "\n",
        "Create a short program that uses three variables to keep track of some information. For example create variables to keep track of your favorite superhero's name, age, and if they are immortal or not."
      ]
    },
    {
      "cell_type": "code",
      "metadata": {
        "id": "DIGdw8iDcLE1",
        "outputId": "5cd8c41d-9354-497c-8b71-a4f762ffa288",
        "colab": {
          "base_uri": "https://localhost:8080/"
        }
      },
      "source": [
        "# Create your program\n",
        "Name = \"Eddie\"\n",
        "Age = 16\n",
        "immortal = \"ofc\"\n",
        "print(Name, Age, immortal)"
      ],
      "execution_count": 8,
      "outputs": [
        {
          "output_type": "stream",
          "name": "stdout",
          "text": [
            "Eddie 16 ofc\n"
          ]
        }
      ]
    }
  ]
}