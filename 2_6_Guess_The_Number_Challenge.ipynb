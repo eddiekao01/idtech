{
  "nbformat": 4,
  "nbformat_minor": 0,
  "metadata": {
    "colab": {
      "name": "2.6_Guess_The_Number_Challenge.ipynb",
      "provenance": [],
      "include_colab_link": true
    },
    "kernelspec": {
      "name": "python3",
      "display_name": "Python 3"
    },
    "language_info": {
      "name": "python"
    }
  },
  "cells": [
    {
      "cell_type": "markdown",
      "metadata": {
        "id": "view-in-github",
        "colab_type": "text"
      },
      "source": [
        "<a href=\"https://colab.research.google.com/github/eddiekao01/idtech/blob/main/2_6_Guess_The_Number_Challenge.ipynb\" target=\"_parent\"><img src=\"https://colab.research.google.com/assets/colab-badge.svg\" alt=\"Open In Colab\"/></a>"
      ]
    },
    {
      "cell_type": "markdown",
      "metadata": {
        "id": "E1BtiRZFTl8b"
      },
      "source": [
        "#Number Guessing Game\n",
        "\n",
        "In this notebook you are challenged to use your knowledge of loops, conditionals, input, random numbers, and printing to create a number guessing game.\n",
        "\n",
        "In this challenge, you'll be making a guess the number game. Your program will generate a random number and then ask the user to guess what it is.\n",
        "\n",
        "When they guess wrong, your program will tell them if they are too high or too low.\n",
        "\n",
        "###Core Freatures Breakdown\n",
        "- Generate a random number between 1 and 100.\n",
        "\n",
        "- Let the user guess what the number is until they get it right.\n",
        "\n",
        "- Give the user feedback after each guess- tell them if their guess is too high, too low, or just right.\n",
        "\n",
        "- Begin the game again.\n"
      ]
    },
    {
      "cell_type": "code",
      "metadata": {
        "id": "-j0-ot-5TlKw",
        "outputId": "4a13c863-e93e-4ca5-eedd-d15834016796",
        "colab": {
          "base_uri": "https://localhost:8080/",
          "height": 238
        }
      },
      "source": [
        "# Add your code here:\n",
        "import random\n",
        "\n",
        "number = int(random.randint(0,100))\n",
        "check = True\n",
        "\n",
        "while check:\n",
        "  answer = int(input(\"What number did i choose? \"))\n",
        "  if (answer < number):\n",
        "    print(\"it's bigger than that\")\n",
        "  elif (answer > number):\n",
        "    print(\"thats way too much bruh\")\n",
        "  else:\n",
        "    print(\"that's it\")\n",
        "    check=False\n"
      ],
      "execution_count": 52,
      "outputs": [
        {
          "output_type": "error",
          "ename": "TypeError",
          "evalue": "ignored",
          "traceback": [
            "\u001b[0;31m---------------------------------------------------------------------------\u001b[0m",
            "\u001b[0;31mTypeError\u001b[0m                                 Traceback (most recent call last)",
            "\u001b[0;32m<ipython-input-52-55673824344c>\u001b[0m in \u001b[0;36m<cell line: 7>\u001b[0;34m()\u001b[0m\n\u001b[1;32m      6\u001b[0m \u001b[0;34m\u001b[0m\u001b[0m\n\u001b[1;32m      7\u001b[0m \u001b[0;32mwhile\u001b[0m \u001b[0mcheck\u001b[0m\u001b[0;34m:\u001b[0m\u001b[0;34m\u001b[0m\u001b[0;34m\u001b[0m\u001b[0m\n\u001b[0;32m----> 8\u001b[0;31m   \u001b[0manswer\u001b[0m \u001b[0;34m=\u001b[0m \u001b[0mint\u001b[0m\u001b[0;34m(\u001b[0m\u001b[0minput\u001b[0m\u001b[0;34m(\u001b[0m\u001b[0;34m\"What number did i choose? \"\u001b[0m\u001b[0;34m)\u001b[0m\u001b[0;34m)\u001b[0m\u001b[0;34m\u001b[0m\u001b[0;34m\u001b[0m\u001b[0m\n\u001b[0m\u001b[1;32m      9\u001b[0m   \u001b[0;32mif\u001b[0m \u001b[0;34m(\u001b[0m\u001b[0manswer\u001b[0m \u001b[0;34m<\u001b[0m \u001b[0mnumber\u001b[0m\u001b[0;34m)\u001b[0m\u001b[0;34m:\u001b[0m\u001b[0;34m\u001b[0m\u001b[0;34m\u001b[0m\u001b[0m\n\u001b[1;32m     10\u001b[0m     \u001b[0mprint\u001b[0m\u001b[0;34m(\u001b[0m\u001b[0;34m\"it's bigger than that\"\u001b[0m\u001b[0;34m)\u001b[0m\u001b[0;34m\u001b[0m\u001b[0;34m\u001b[0m\u001b[0m\n",
            "\u001b[0;31mTypeError\u001b[0m: 'str' object is not callable"
          ]
        }
      ]
    },
    {
      "cell_type": "markdown",
      "metadata": {
        "id": "ogeubfG_UYxb"
      },
      "source": [
        "###Bonus Features\n",
        "\n",
        "- Create a variable to keep track of the number of gueses\n",
        "\n",
        "- Add another loop so that the game can be played a set number of times\n",
        "\n",
        "- Save all the number of guesses to a list, and tell the user what the best score is.\n",
        "\n",
        "- Add a second death number that the user is trying to avoid, and if the user guesses that number the game is over.\n",
        "\n",
        "- Add a function for code that you re-use often, like getting user input or generating the random number\n"
      ]
    }
  ]
}